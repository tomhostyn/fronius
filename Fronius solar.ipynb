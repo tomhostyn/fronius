{
 "cells": [
  {
   "cell_type": "markdown",
   "metadata": {},
   "source": [
    "# Fronius "
   ]
  },
  {
   "cell_type": "markdown",
   "metadata": {},
   "source": [
    "## Settings"
   ]
  },
  {
   "cell_type": "code",
   "execution_count": 73,
   "metadata": {
    "collapsed": true
   },
   "outputs": [],
   "source": [
    "import requests\n",
    "import json\n",
    "import warnings\n",
    "import datetime\n",
    "import dateutil\n",
    "import pandas as pd\n",
    "\n",
    "import fronius\n",
    "from fronius import FroniusInverter\n",
    "from fronius import FroniusArchiveJson\n",
    "from fronius import FroniusRealTimeJson\n",
    "\n",
    "\n",
    "from IPython.display import display, HTML, Markdown\n",
    "import matplotlib.pyplot as plt\n",
    "import matplotlib\n",
    "\n",
    "inverter_ip = \"192.168.1.154\"\n",
    "inverter_installation_time = datetime.datetime(2017, 10, 11)\n"
   ]
  },
  {
   "cell_type": "code",
   "execution_count": 74,
   "metadata": {},
   "outputs": [
    {
     "data": {
      "text/plain": [
       "<module 'fronius' from 'C:\\\\Users\\\\tomho\\\\PycharmProjects\\\\Fronius\\\\fronius\\\\fronius.py'>"
      ]
     },
     "execution_count": 74,
     "metadata": {},
     "output_type": "execute_result"
    }
   ],
   "source": [
    "import imp\n",
    "imp.reload(fronius)"
   ]
  },
  {
   "cell_type": "markdown",
   "metadata": {},
   "source": [
    "# FroniusInverter object\n",
    "\n",
    "The first object is _FroniusInverter_.  It will act as a proxy to the inverter hardware.   Create an instance by passing the hardware's IP address."
   ]
  },
  {
   "cell_type": "code",
   "execution_count": 55,
   "metadata": {
    "collapsed": true,
    "scrolled": false
   },
   "outputs": [],
   "source": [
    "host = None\n",
    "fi = FroniusInverter(inverter_ip)"
   ]
  },
  {
   "cell_type": "markdown",
   "metadata": {},
   "source": [
    "This python module was tested against v1 of the Fronius API, and against v1.5-4 of the firmware.  Check if the server version is tested against."
   ]
  },
  {
   "cell_type": "code",
   "execution_count": 60,
   "metadata": {},
   "outputs": [
    {
     "data": {
      "text/markdown": [
       "**Compatibility check: OK**"
      ],
      "text/plain": [
       "<IPython.core.display.Markdown object>"
      ]
     },
     "metadata": {},
     "output_type": "display_data"
    },
    {
     "name": "stdout",
     "output_type": "stream",
     "text": [
      "module supports API v1\n",
      "module tested against versions ['1.5-4']\n",
      "Fronius version response: {'APIVersion': 1, 'BaseURL': '/solar_api/v1/', 'CompatibilityRange': '1.5-4'}\n"
     ]
    }
   ],
   "source": [
    "compatible, response = fi.check_server_compatibility()\n",
    "if compatible:\n",
    "    display(Markdown(\"**Compatibility check: OK**\"))\n",
    "else:\n",
    "    display(Markdown(\"**Compatibility check: NOK**\"))\n",
    "\n",
    "print(\"module supports API v\"+ str(fi.api_version))\n",
    "print(\"module tested against versions\", fi.tested_server_versions)\n",
    "\n",
    "print(\"Fronius version response:\", response)"
   ]
  },
  {
   "cell_type": "markdown",
   "metadata": {},
   "source": [
    "# Reading real time data from the Fronius inverter"
   ]
  },
  {
   "cell_type": "code",
   "execution_count": 76,
   "metadata": {},
   "outputs": [
    {
     "data": {
      "text/plain": [
       "{'Body': {'Data': {'DAY_ENERGY': {'Unit': 'Wh', 'Values': {'1': 144}},\n",
       "   'PAC': {'Unit': 'W', 'Values': {'1': 266}},\n",
       "   'TOTAL_ENERGY': {'Unit': 'Wh', 'Values': {'1': 193532}},\n",
       "   'YEAR_ENERGY': {'Unit': 'Wh', 'Values': {'1': 193532}}}},\n",
       " 'Head': {'RequestArguments': {'DeviceClass': 'Inverter', 'Scope': 'System'},\n",
       "  'Status': {'Code': 0, 'Reason': '', 'UserMessage': ''},\n",
       "  'Timestamp': '2017-10-29T09:35:21+01:00'}}"
      ]
     },
     "execution_count": 76,
     "metadata": {},
     "output_type": "execute_result"
    }
   ],
   "source": [
    "json = fi.getInverterRealTimeData()\n",
    "json"
   ]
  },
  {
   "cell_type": "markdown",
   "metadata": {},
   "source": [
    "use the FroniusRealTimeJson class to access the json response"
   ]
  },
  {
   "cell_type": "code",
   "execution_count": 86,
   "metadata": {},
   "outputs": [
    {
     "data": {
      "text/markdown": [
       "**Realtime data call: OK**"
      ],
      "text/plain": [
       "<IPython.core.display.Markdown object>"
      ]
     },
     "metadata": {},
     "output_type": "display_data"
    },
    {
     "data": {
      "text/html": [
       "<div>\n",
       "<style>\n",
       "    .dataframe thead tr:only-child th {\n",
       "        text-align: right;\n",
       "    }\n",
       "\n",
       "    .dataframe thead th {\n",
       "        text-align: left;\n",
       "    }\n",
       "\n",
       "    .dataframe tbody tr th {\n",
       "        vertical-align: top;\n",
       "    }\n",
       "</style>\n",
       "<table border=\"1\" class=\"dataframe\">\n",
       "  <thead>\n",
       "    <tr style=\"text-align: right;\">\n",
       "      <th></th>\n",
       "      <th>TS</th>\n",
       "      <th>DAY_ENERGY</th>\n",
       "      <th>PAC</th>\n",
       "      <th>TOTAL_ENERGY</th>\n",
       "      <th>YEAR_ENERGY</th>\n",
       "    </tr>\n",
       "  </thead>\n",
       "  <tbody>\n",
       "    <tr>\n",
       "      <th>0</th>\n",
       "      <td>2017-10-29 09:35:21+01:00</td>\n",
       "      <td>144</td>\n",
       "      <td>266</td>\n",
       "      <td>193532</td>\n",
       "      <td>193532</td>\n",
       "    </tr>\n",
       "  </tbody>\n",
       "</table>\n",
       "</div>"
      ],
      "text/plain": [
       "                         TS  DAY_ENERGY  PAC  TOTAL_ENERGY  YEAR_ENERGY\n",
       "0 2017-10-29 09:35:21+01:00         144  266        193532       193532"
      ]
     },
     "metadata": {},
     "output_type": "display_data"
    }
   ],
   "source": [
    "frt = FroniusRealTimeJson(json)\n",
    "\n",
    "if (frt.error_code() == 0):\n",
    "    display(Markdown(\"**Realtime data call: OK**\"))\n",
    "    rtd = frt.data(\"TS\")\n",
    "    display(rtd)\n",
    "else:\n",
    "    display(Markdown(\"**Realtime data call: NOK**\"))\n",
    "    print(frt.error_status())\n"
   ]
  },
  {
   "cell_type": "markdown",
   "metadata": {},
   "source": [
    "the data is marshalled in a pandas dataframe."
   ]
  },
  {
   "cell_type": "code",
   "execution_count": 104,
   "metadata": {},
   "outputs": [
    {
     "data": {
      "text/markdown": [
       "**Fetch Real Time data**"
      ],
      "text/plain": [
       "<IPython.core.display.Markdown object>"
      ]
     },
     "metadata": {},
     "output_type": "display_data"
    },
    {
     "data": {
      "text/html": [
       "<div>\n",
       "<style>\n",
       "    .dataframe thead tr:only-child th {\n",
       "        text-align: right;\n",
       "    }\n",
       "\n",
       "    .dataframe thead th {\n",
       "        text-align: left;\n",
       "    }\n",
       "\n",
       "    .dataframe tbody tr th {\n",
       "        vertical-align: top;\n",
       "    }\n",
       "</style>\n",
       "<table border=\"1\" class=\"dataframe\">\n",
       "  <thead>\n",
       "    <tr style=\"text-align: right;\">\n",
       "      <th></th>\n",
       "      <th>TS</th>\n",
       "      <th>DAY_ENERGY</th>\n",
       "      <th>PAC</th>\n",
       "      <th>TOTAL_ENERGY</th>\n",
       "      <th>YEAR_ENERGY</th>\n",
       "    </tr>\n",
       "  </thead>\n",
       "  <tbody>\n",
       "    <tr>\n",
       "      <th>0</th>\n",
       "      <td>2017-10-29 09:53:17+01:00</td>\n",
       "      <td>580</td>\n",
       "      <td>1900</td>\n",
       "      <td>193968</td>\n",
       "      <td>193967</td>\n",
       "    </tr>\n",
       "  </tbody>\n",
       "</table>\n",
       "</div>"
      ],
      "text/plain": [
       "                         TS  DAY_ENERGY   PAC  TOTAL_ENERGY  YEAR_ENERGY\n",
       "0 2017-10-29 09:53:17+01:00         580  1900        193968       193967"
      ]
     },
     "metadata": {},
     "output_type": "display_data"
    },
    {
     "data": {
      "text/markdown": [
       "**Example: Append to previous observations**"
      ],
      "text/plain": [
       "<IPython.core.display.Markdown object>"
      ]
     },
     "metadata": {},
     "output_type": "display_data"
    },
    {
     "data": {
      "text/html": [
       "<div>\n",
       "<style>\n",
       "    .dataframe thead tr:only-child th {\n",
       "        text-align: right;\n",
       "    }\n",
       "\n",
       "    .dataframe thead th {\n",
       "        text-align: left;\n",
       "    }\n",
       "\n",
       "    .dataframe tbody tr th {\n",
       "        vertical-align: top;\n",
       "    }\n",
       "</style>\n",
       "<table border=\"1\" class=\"dataframe\">\n",
       "  <thead>\n",
       "    <tr style=\"text-align: right;\">\n",
       "      <th></th>\n",
       "      <th>TS</th>\n",
       "      <th>DAY_ENERGY</th>\n",
       "      <th>PAC</th>\n",
       "      <th>TOTAL_ENERGY</th>\n",
       "      <th>YEAR_ENERGY</th>\n",
       "    </tr>\n",
       "  </thead>\n",
       "  <tbody>\n",
       "    <tr>\n",
       "      <th>0</th>\n",
       "      <td>2017-10-29 09:35:21+01:00</td>\n",
       "      <td>144</td>\n",
       "      <td>266</td>\n",
       "      <td>193532</td>\n",
       "      <td>193532</td>\n",
       "    </tr>\n",
       "    <tr>\n",
       "      <th>1</th>\n",
       "      <td>2017-10-29 09:48:27+01:00</td>\n",
       "      <td>408</td>\n",
       "      <td>1740</td>\n",
       "      <td>193795</td>\n",
       "      <td>193795</td>\n",
       "    </tr>\n",
       "    <tr>\n",
       "      <th>2</th>\n",
       "      <td>2017-10-29 09:48:38+01:00</td>\n",
       "      <td>415</td>\n",
       "      <td>2158</td>\n",
       "      <td>193802</td>\n",
       "      <td>193802</td>\n",
       "    </tr>\n",
       "    <tr>\n",
       "      <th>3</th>\n",
       "      <td>2017-10-29 09:49:04+01:00</td>\n",
       "      <td>430</td>\n",
       "      <td>2230</td>\n",
       "      <td>193817</td>\n",
       "      <td>193817</td>\n",
       "    </tr>\n",
       "    <tr>\n",
       "      <th>4</th>\n",
       "      <td>2017-10-29 09:50:36+01:00</td>\n",
       "      <td>486</td>\n",
       "      <td>2182</td>\n",
       "      <td>193873</td>\n",
       "      <td>193873</td>\n",
       "    </tr>\n",
       "    <tr>\n",
       "      <th>5</th>\n",
       "      <td>2017-10-29 09:50:56+01:00</td>\n",
       "      <td>498</td>\n",
       "      <td>2021</td>\n",
       "      <td>193885</td>\n",
       "      <td>193885</td>\n",
       "    </tr>\n",
       "    <tr>\n",
       "      <th>6</th>\n",
       "      <td>2017-10-29 09:53:17+01:00</td>\n",
       "      <td>580</td>\n",
       "      <td>1900</td>\n",
       "      <td>193968</td>\n",
       "      <td>193967</td>\n",
       "    </tr>\n",
       "  </tbody>\n",
       "</table>\n",
       "</div>"
      ],
      "text/plain": [
       "                         TS  DAY_ENERGY   PAC  TOTAL_ENERGY  YEAR_ENERGY\n",
       "0 2017-10-29 09:35:21+01:00         144   266        193532       193532\n",
       "1 2017-10-29 09:48:27+01:00         408  1740        193795       193795\n",
       "2 2017-10-29 09:48:38+01:00         415  2158        193802       193802\n",
       "3 2017-10-29 09:49:04+01:00         430  2230        193817       193817\n",
       "4 2017-10-29 09:50:36+01:00         486  2182        193873       193873\n",
       "5 2017-10-29 09:50:56+01:00         498  2021        193885       193885\n",
       "6 2017-10-29 09:53:17+01:00         580  1900        193968       193967"
      ]
     },
     "metadata": {},
     "output_type": "display_data"
    },
    {
     "data": {
      "text/markdown": [
       "**Example: Perform some calculations**"
      ],
      "text/plain": [
       "<IPython.core.display.Markdown object>"
      ]
     },
     "metadata": {},
     "output_type": "display_data"
    },
    {
     "data": {
      "text/plain": [
       "0    0.000744\n",
       "1    0.002105\n",
       "2    0.002141\n",
       "3    0.002219\n",
       "4    0.002507\n",
       "5    0.002569\n",
       "6    0.002990\n",
       "dtype: float64"
      ]
     },
     "metadata": {},
     "output_type": "display_data"
    }
   ],
   "source": [
    "display(Markdown(\"**Fetch Real Time data**\"))\n",
    "\n",
    "json2 = fi.getInverterRealTimeData()\n",
    "frt2 = FroniusRealTimeJson(json2)\n",
    "rtd2 = frt2.data(\"TS\")\n",
    "display(rtd2)\n",
    "\n",
    "display(Markdown(\"**Example: Append to previous observations**\"))\n",
    "rtd = pd.merge(rtd, rtd2, how='outer')\n",
    "display(rtd)\n",
    "\n",
    "display(Markdown(\"**Example: Perform some calculations**\"))\n",
    "display(rtd['DAY_ENERGY']/rtd['TOTAL_ENERGY'])\n"
   ]
  },
  {
   "cell_type": "code",
   "execution_count": 6,
   "metadata": {},
   "outputs": [
    {
     "name": "stdout",
     "output_type": "stream",
     "text": [
      "http://192.168.1.154/solar_api/v1/GetArchiveData.cgi 2017-09-01 00:00:00 -> 2017-09-15 00:00:00\n",
      "http://192.168.1.154/solar_api/v1/GetArchiveData.cgi 2017-09-15 00:00:00 -> 2017-09-29 00:00:00\n",
      "http://192.168.1.154/solar_api/v1/GetArchiveData.cgi 2017-09-29 00:00:00 -> 2017-10-13 00:00:00\n"
     ]
    },
    {
     "data": {
      "text/plain": [
       "datetime.datetime(2017, 10, 11, 15, 5, tzinfo=tzoffset(None, 7200))"
      ]
     },
     "execution_count": 6,
     "metadata": {},
     "output_type": "execute_result"
    }
   ],
   "source": [
    "fi = FroniusInverter(inverter_ip)\n",
    "fi.findEarliestData()"
   ]
  },
  {
   "cell_type": "code",
   "execution_count": null,
   "metadata": {
    "collapsed": true
   },
   "outputs": [],
   "source": [
    "fi = FroniusInverter(inverter_ip)\n",
    "channels = fi.getChannels()\n",
    "\n",
    "display(Markdown(\"**Defined channels**\"))\n",
    "display(channels)"
   ]
  },
  {
   "cell_type": "code",
   "execution_count": null,
   "metadata": {
    "collapsed": true,
    "scrolled": false
   },
   "outputs": [],
   "source": [
    "fi = FroniusInverter(inverter_ip)\n",
    "data = fi.getHistoricalData(datetime.datetime.now() - datetime.timedelta(hours=1), datetime.datetime.now(), channels)\n",
    "for key, value in data.items():\n",
    "    display(Markdown(\"**\"+str(key)+\"**\"))\n",
    "    display(value)\n",
    "    display(Markdown(\"\\n\"))\n",
    "\n"
   ]
  },
  {
   "cell_type": "code",
   "execution_count": null,
   "metadata": {
    "collapsed": true
   },
   "outputs": [],
   "source": [
    "fi = FroniusInverter(inverter_ip)\n",
    "data = fi.getHistoricalDataJson(datetime.datetime.now() - datetime.timedelta(hours=1), datetime.datetime.now(), \n",
    "                            [\"Digital_PowerManagementRelay_Out_1\", \"TimeSpanInSec\"])\n",
    "\n",
    "data\n"
   ]
  },
  {
   "cell_type": "code",
   "execution_count": null,
   "metadata": {
    "collapsed": true
   },
   "outputs": [],
   "source": []
  },
  {
   "cell_type": "markdown",
   "metadata": {},
   "source": [
    "## Fronius configuration\n",
    "\n",
    "explores which channels are reported, and which channels remain empty"
   ]
  },
  {
   "cell_type": "code",
   "execution_count": null,
   "metadata": {
    "collapsed": true
   },
   "outputs": [],
   "source": [
    "# setup the inverter object\n",
    "fi = FroniusInverter(inverter_ip)\n",
    "\n",
    "# fetch a a couple of days of recent data\n",
    "all_channels = list(fi.getChannels())\n",
    "jsondata=fi.getHistoricalDataJson(datetime.datetime.now() - datetime.timedelta(days=1), datetime.datetime.now(), all_channels)\n",
    "\n",
    "# pass the \n",
    "faj = FroniusArchiveJson(jsondata)\n",
    "data = faj.data()\n",
    "devices = faj.device_ids()\n",
    "\n",
    "channelsReported = []\n",
    "for device in data:\n",
    "    df=data[device]\n",
    "    columns=list(df.columns)\n",
    "    display(Markdown(\"**\"+str(device)+\"**\"))\n",
    "    for c in sorted(columns[1:]):\n",
    "        print(\"\\t\", c)            \n",
    "    channelsReported +=columns[1:]\n",
    "\n",
    "missingChannels=all_channels\n",
    "for c in channelsReported:\n",
    "    missingChannels.remove(c)\n",
    "\n",
    "display(Markdown(\"**\"+str(\"Missing :\")+\"**\"))\n",
    "for c in sorted(missingChannels):\n",
    "        print(\"\\t\", c) "
   ]
  },
  {
   "cell_type": "markdown",
   "metadata": {},
   "source": [
    "# daily graphs"
   ]
  },
  {
   "cell_type": "code",
   "execution_count": null,
   "metadata": {
    "collapsed": true
   },
   "outputs": [],
   "source": [
    "# setup the inverter object\n",
    "fi = FroniusInverter(inverter_ip)\n",
    "\n",
    "channels = [\"Current_DC_String_1\", \"Current_DC_String_2\"]\n",
    "channels = [ \"Current_DC_String_2\"]\n",
    "\n",
    "# fetch a a couple of days of recent data\n",
    "day=datetime.datetime(year=2017, month=10, day=1)\n",
    "duration = 30\n",
    "\n",
    "data20171020 = fi.getHistoricalData(day, day + datetime.timedelta(days=duration) -datetime.timedelta(seconds=1))\n"
   ]
  },
  {
   "cell_type": "code",
   "execution_count": null,
   "metadata": {
    "collapsed": true
   },
   "outputs": [],
   "source": [
    "data20171020_json = fi.getHistoricalDataJson(day, day + datetime.timedelta(days=duration) -datetime.timedelta(seconds=1))\n",
    "data20171020_json"
   ]
  },
  {
   "cell_type": "code",
   "execution_count": null,
   "metadata": {
    "collapsed": true
   },
   "outputs": [],
   "source": [
    "data20171020_json"
   ]
  },
  {
   "cell_type": "code",
   "execution_count": null,
   "metadata": {
    "collapsed": true
   },
   "outputs": [],
   "source": [
    "inverterData = data20171020['inverter/1']\n",
    "inverterData"
   ]
  },
  {
   "cell_type": "code",
   "execution_count": null,
   "metadata": {
    "collapsed": true
   },
   "outputs": [],
   "source": [
    "fig, ax = plt.subplots()\n",
    "\n",
    "d=inverterData\n",
    "t=d[\"ts\"]\n",
    "s=d[\"Current_AC_Phase_1\"]\n",
    "ax.plot(t, s)\n",
    "#ax.plot(t, t)\n",
    "\n",
    "ax.set(xlabel='time (s)', ylabel='Current AC(A)',\n",
    "       title='Current_AC_Phase_1')\n",
    "ax.grid()\n",
    "plt.gcf().autofmt_xdate()\n",
    "\n",
    "plt.show()"
   ]
  },
  {
   "cell_type": "code",
   "execution_count": null,
   "metadata": {
    "collapsed": true
   },
   "outputs": [],
   "source": [
    "fig, ax = plt.subplots()\n",
    "\n",
    "d=inverterData\n",
    "#d=(d.sort_values('ts'))\n",
    "t=d[\"ts\"]\n",
    "s1=d[\"Current_DC_String_1\"]\n",
    "ax.plot(t, s1)\n",
    "\n",
    "s2=d[\"Current_DC_String_2\"]\n",
    "ax.plot(t, s2)\n",
    "\n",
    "ax.set(xlabel='time (s)', ylabel='Current DC(A)',\n",
    "       title='Current_DC_String')\n",
    "ax.grid()\n",
    "plt.gcf().autofmt_xdate()\n",
    "\n",
    "\n",
    "plt.show()"
   ]
  },
  {
   "cell_type": "code",
   "execution_count": null,
   "metadata": {
    "collapsed": true
   },
   "outputs": [],
   "source": [
    "fig, ax = plt.subplots()\n",
    "\n",
    "d=inverterData\n",
    "#d=(d.sort_values('ts'))\n",
    "t=d[\"ts\"]\n",
    "s=d[\"TimeSpanInSec\"]\n",
    "ax.plot(t, s)\n",
    "\n",
    "ax.set(xlabel='time (s)', ylabel='Current AC(A)',\n",
    "       title='TimeSpanInSec')\n",
    "ax.grid()\n",
    "plt.gcf().autofmt_xdate()\n",
    "\n",
    "\n",
    "plt.show()"
   ]
  },
  {
   "cell_type": "code",
   "execution_count": null,
   "metadata": {
    "collapsed": true
   },
   "outputs": [],
   "source": [
    "fig, ax = plt.subplots()\n",
    "\n",
    "d=inverterData\n",
    "#d=(d.sort_values('ts'))\n",
    "t=d[\"ts\"]\n",
    "s1=d[\"Current_DC_String_1\"]\n",
    "s2=d[\"Current_DC_String_2\"]\n",
    "\n",
    "ax.scatter(s1, s2, alpha=.2)\n",
    "\n",
    "ax.set(xlabel='Current DC(A)', ylabel='Current DC(A)',\n",
    "       title='Current DC 1 vs 2')\n",
    "ax.grid()\n",
    "plt.gcf().autofmt_xdate()\n",
    "\n",
    "\n",
    "plt.show()"
   ]
  },
  {
   "cell_type": "code",
   "execution_count": null,
   "metadata": {
    "collapsed": true
   },
   "outputs": [],
   "source": [
    "fig, ax = plt.subplots()\n",
    "\n",
    "d=inverterData\n",
    "#d=(d.sort_values('ts'))\n",
    "d['tod'] = d.ts.apply(lambda t : t.hour)\n",
    "\n",
    "d=d[d.tod == 10]\n",
    "\n",
    "s1=d[\"Current_DC_String_1\"]\n",
    "s2=d[\"Current_DC_String_2\"]\n",
    "\n",
    "ax.scatter(s1, s2, alpha=.2)\n",
    "\n",
    "ax.set(xlabel='Current DC(A)', ylabel='Current DC(A)',\n",
    "       title='Current DC 1 vs 2')\n",
    "ax.grid()\n",
    "plt.gcf().autofmt_xdate()\n",
    "\n",
    "\n",
    "plt.show()"
   ]
  },
  {
   "cell_type": "code",
   "execution_count": null,
   "metadata": {
    "collapsed": true
   },
   "outputs": [],
   "source": [
    "fig, ax = plt.subplots()\n",
    "\n",
    "d=inverterData\n",
    "#d=(d.sort_values('ts'))\n",
    "t=d[\"ts\"]\n",
    "s1=d[\"Voltage_DC_String_1\"]\n",
    "s2=d[\"Voltage_DC_String_2\"]\n",
    "\n",
    "ax.scatter(s1, s2, alpha=.2)\n",
    "\n",
    "ax.set(xlabel='Voltage DC(A)', ylabel='Voltage DC(A)',\n",
    "       title='Voltage DC 1 vs 2')\n",
    "ax.grid()\n",
    "plt.gcf().autofmt_xdate()\n",
    "\n",
    "\n",
    "plt.show()"
   ]
  },
  {
   "cell_type": "code",
   "execution_count": null,
   "metadata": {
    "collapsed": true
   },
   "outputs": [],
   "source": [
    "fig, ax = plt.subplots()\n",
    "\n",
    "d=inverterData\n",
    "#d=(d.sort_values('ts'))\n",
    "d['Current_DC'] = d[\"Current_DC_String_1\"] + d[\"Current_DC_String_2\"]\n",
    "\n",
    "d=d[d.tod == 14]\n",
    "\n",
    "s1=d[\"Current_DC_String_1\"]\n",
    "s2=d[\"Current_DC_String_2\"]\n",
    "\n",
    "ax.scatter(s1, s2, alpha=.2)\n",
    "\n",
    "ax.set(xlabel='Current DC(A)', ylabel='Current DC(A)',\n",
    "       title='Current DC 1 vs 2')\n",
    "ax.grid()\n",
    "plt.gcf().autofmt_xdate()\n",
    "\n",
    "\n",
    "plt.show()"
   ]
  },
  {
   "cell_type": "code",
   "execution_count": null,
   "metadata": {
    "collapsed": true
   },
   "outputs": [],
   "source": []
  },
  {
   "cell_type": "code",
   "execution_count": null,
   "metadata": {
    "collapsed": true
   },
   "outputs": [],
   "source": []
  },
  {
   "cell_type": "code",
   "execution_count": null,
   "metadata": {
    "collapsed": true
   },
   "outputs": [],
   "source": []
  }
 ],
 "metadata": {
  "kernelspec": {
   "display_name": "Python 3",
   "language": "python",
   "name": "python3"
  },
  "language_info": {
   "codemirror_mode": {
    "name": "ipython",
    "version": 3
   },
   "file_extension": ".py",
   "mimetype": "text/x-python",
   "name": "python",
   "nbconvert_exporter": "python",
   "pygments_lexer": "ipython3",
   "version": "3.6.1"
  }
 },
 "nbformat": 4,
 "nbformat_minor": 2
}
