{
 "cells": [
  {
   "cell_type": "markdown",
   "metadata": {},
   "source": [
    "# Fronius "
   ]
  },
  {
   "cell_type": "markdown",
   "metadata": {},
   "source": [
    "## Settings"
   ]
  },
  {
   "cell_type": "code",
   "execution_count": 1,
   "metadata": {
    "collapsed": true
   },
   "outputs": [],
   "source": [
    "import requests\n",
    "import json\n",
    "import warnings\n",
    "import datetime\n",
    "import dateutil\n",
    "import pandas as pd\n",
    "\n",
    "import fronius\n",
    "from fronius import FroniusInverter\n",
    "from fronius import FroniusArchiveJson\n",
    "\n",
    "from IPython.display import display, HTML, Markdown\n",
    "import matplotlib.pyplot as plt\n",
    "import matplotlib\n",
    "\n",
    "inverter_ip = \"192.168.1.154\"\n",
    "inverter_installation_time = datetime.datetime(2017, 10, 11)\n"
   ]
  },
  {
   "cell_type": "code",
   "execution_count": null,
   "metadata": {},
   "outputs": [],
   "source": [
    "import imp\n",
    "imp.reload(fronius)"
   ]
  },
  {
   "cell_type": "code",
   "execution_count": null,
   "metadata": {
    "scrolled": false
   },
   "outputs": [],
   "source": [
    "host = None\n",
    "fi = FroniusInverter(inverter_ip)\n",
    "\n"
   ]
  },
  {
   "cell_type": "code",
   "execution_count": null,
   "metadata": {
    "collapsed": true
   },
   "outputs": [],
   "source": [
    "fi.getInverterRealTimeData()"
   ]
  },
  {
   "cell_type": "code",
   "execution_count": null,
   "metadata": {},
   "outputs": [],
   "source": [
    "fi = FroniusInverter(inverter_ip)\n",
    "fi.findEarliestData()"
   ]
  },
  {
   "cell_type": "code",
   "execution_count": null,
   "metadata": {},
   "outputs": [],
   "source": [
    "fi = FroniusInverter(inverter_ip)\n",
    "channels = fi.getChannels()\n",
    "\n",
    "display(Markdown(\"**Defined channels**\"))\n",
    "display(channels)"
   ]
  },
  {
   "cell_type": "code",
   "execution_count": null,
   "metadata": {
    "scrolled": false
   },
   "outputs": [],
   "source": [
    "fi = FroniusInverter(inverter_ip)\n",
    "data = fi.getHistoricalData(datetime.datetime.now() - datetime.timedelta(hours=1), datetime.datetime.now(), channels)\n",
    "for key, value in data.items():\n",
    "    display(Markdown(\"**\"+str(key)+\"**\"))\n",
    "    display(value)\n",
    "    display(Markdown(\"\\n\"))\n",
    "\n"
   ]
  },
  {
   "cell_type": "code",
   "execution_count": null,
   "metadata": {},
   "outputs": [],
   "source": [
    "fi = FroniusInverter(inverter_ip)\n",
    "data = fi.getHistoricalDataJson(datetime.datetime.now() - datetime.timedelta(hours=1), datetime.datetime.now(), \n",
    "                            [\"Digital_PowerManagementRelay_Out_1\", \"TimeSpanInSec\"])\n",
    "\n",
    "data\n"
   ]
  },
  {
   "cell_type": "code",
   "execution_count": null,
   "metadata": {
    "collapsed": true
   },
   "outputs": [],
   "source": []
  },
  {
   "cell_type": "markdown",
   "metadata": {},
   "source": [
    "## Fronius configuration\n",
    "\n",
    "explores which channels are reported, and which channels remain empty"
   ]
  },
  {
   "cell_type": "code",
   "execution_count": null,
   "metadata": {},
   "outputs": [],
   "source": [
    "# setup the inverter object\n",
    "fi = FroniusInverter(inverter_ip)\n",
    "\n",
    "# fetch a a couple of days of recent data\n",
    "all_channels = list(fi.getChannels())\n",
    "jsondata=fi.getHistoricalDataJson(datetime.datetime.now() - datetime.timedelta(days=1), datetime.datetime.now(), all_channels)\n",
    "\n",
    "# pass the \n",
    "faj = FroniusArchiveJson(jsondata)\n",
    "data = faj.data()\n",
    "devices = faj.device_ids()\n",
    "\n",
    "channelsReported = []\n",
    "for device in data:\n",
    "    df=data[device]\n",
    "    columns=list(df.columns)\n",
    "    display(Markdown(\"**\"+str(device)+\"**\"))\n",
    "    for c in sorted(columns[1:]):\n",
    "        print(\"\\t\", c)            \n",
    "    channelsReported +=columns[1:]\n",
    "\n",
    "missingChannels=all_channels\n",
    "for c in channelsReported:\n",
    "    missingChannels.remove(c)\n",
    "\n",
    "display(Markdown(\"**\"+str(\"Missing :\")+\"**\"))\n",
    "for c in sorted(missingChannels):\n",
    "        print(\"\\t\", c) "
   ]
  },
  {
   "cell_type": "markdown",
   "metadata": {},
   "source": [
    "# daily graphs"
   ]
  },
  {
   "cell_type": "code",
   "execution_count": null,
   "metadata": {},
   "outputs": [],
   "source": [
    "# setup the inverter object\n",
    "fi = FroniusInverter(inverter_ip)\n",
    "\n",
    "channels = [\"Current_DC_String_1\", \"Current_DC_String_2\"]\n",
    "channels = [ \"Current_DC_String_2\"]\n",
    "\n",
    "# fetch a a couple of days of recent data\n",
    "day=datetime.datetime(year=2017, month=10, day=1)\n",
    "duration = 30\n",
    "\n",
    "data20171020 = fi.getHistoricalData(day, day + datetime.timedelta(days=duration) -datetime.timedelta(seconds=1))\n"
   ]
  },
  {
   "cell_type": "code",
   "execution_count": null,
   "metadata": {},
   "outputs": [],
   "source": [
    "data20171020_json = fi.getHistoricalDataJson(day, day + datetime.timedelta(days=duration) -datetime.timedelta(seconds=1))\n",
    "data20171020_json"
   ]
  },
  {
   "cell_type": "code",
   "execution_count": null,
   "metadata": {},
   "outputs": [],
   "source": [
    "data20171020_json"
   ]
  },
  {
   "cell_type": "code",
   "execution_count": null,
   "metadata": {},
   "outputs": [],
   "source": [
    "inverterData = data20171020['inverter/1']\n",
    "inverterData"
   ]
  },
  {
   "cell_type": "code",
   "execution_count": null,
   "metadata": {},
   "outputs": [],
   "source": [
    "fig, ax = plt.subplots()\n",
    "\n",
    "d=inverterData\n",
    "t=d[\"ts\"]\n",
    "s=d[\"Current_AC_Phase_1\"]\n",
    "ax.plot(t, s)\n",
    "#ax.plot(t, t)\n",
    "\n",
    "ax.set(xlabel='time (s)', ylabel='Current AC(A)',\n",
    "       title='Current_AC_Phase_1')\n",
    "ax.grid()\n",
    "plt.gcf().autofmt_xdate()\n",
    "\n",
    "plt.show()"
   ]
  },
  {
   "cell_type": "code",
   "execution_count": null,
   "metadata": {},
   "outputs": [],
   "source": [
    "fig, ax = plt.subplots()\n",
    "\n",
    "d=inverterData\n",
    "#d=(d.sort_values('ts'))\n",
    "t=d[\"ts\"]\n",
    "s1=d[\"Current_DC_String_1\"]\n",
    "ax.plot(t, s1)\n",
    "\n",
    "s2=d[\"Current_DC_String_2\"]\n",
    "ax.plot(t, s2)\n",
    "\n",
    "ax.set(xlabel='time (s)', ylabel='Current DC(A)',\n",
    "       title='Current_DC_String')\n",
    "ax.grid()\n",
    "plt.gcf().autofmt_xdate()\n",
    "\n",
    "\n",
    "plt.show()"
   ]
  },
  {
   "cell_type": "code",
   "execution_count": null,
   "metadata": {},
   "outputs": [],
   "source": [
    "fig, ax = plt.subplots()\n",
    "\n",
    "d=inverterData\n",
    "#d=(d.sort_values('ts'))\n",
    "t=d[\"ts\"]\n",
    "s=d[\"TimeSpanInSec\"]\n",
    "ax.plot(t, s)\n",
    "\n",
    "ax.set(xlabel='time (s)', ylabel='Current AC(A)',\n",
    "       title='TimeSpanInSec')\n",
    "ax.grid()\n",
    "plt.gcf().autofmt_xdate()\n",
    "\n",
    "\n",
    "plt.show()"
   ]
  },
  {
   "cell_type": "code",
   "execution_count": null,
   "metadata": {},
   "outputs": [],
   "source": [
    "fig, ax = plt.subplots()\n",
    "\n",
    "d=inverterData\n",
    "#d=(d.sort_values('ts'))\n",
    "t=d[\"ts\"]\n",
    "s1=d[\"Current_DC_String_1\"]\n",
    "s2=d[\"Current_DC_String_2\"]\n",
    "\n",
    "ax.scatter(s1, s2, alpha=.2)\n",
    "\n",
    "ax.set(xlabel='Current DC(A)', ylabel='Current DC(A)',\n",
    "       title='Current DC 1 vs 2')\n",
    "ax.grid()\n",
    "plt.gcf().autofmt_xdate()\n",
    "\n",
    "\n",
    "plt.show()"
   ]
  },
  {
   "cell_type": "code",
   "execution_count": null,
   "metadata": {},
   "outputs": [],
   "source": [
    "fig, ax = plt.subplots()\n",
    "\n",
    "d=inverterData\n",
    "#d=(d.sort_values('ts'))\n",
    "d['tod'] = d.ts.apply(lambda t : t.hour)\n",
    "\n",
    "d=d[d.tod == 10]\n",
    "\n",
    "s1=d[\"Current_DC_String_1\"]\n",
    "s2=d[\"Current_DC_String_2\"]\n",
    "\n",
    "ax.scatter(s1, s2, alpha=.2)\n",
    "\n",
    "ax.set(xlabel='Current DC(A)', ylabel='Current DC(A)',\n",
    "       title='Current DC 1 vs 2')\n",
    "ax.grid()\n",
    "plt.gcf().autofmt_xdate()\n",
    "\n",
    "\n",
    "plt.show()"
   ]
  },
  {
   "cell_type": "code",
   "execution_count": null,
   "metadata": {},
   "outputs": [],
   "source": [
    "fig, ax = plt.subplots()\n",
    "\n",
    "d=inverterData\n",
    "#d=(d.sort_values('ts'))\n",
    "t=d[\"ts\"]\n",
    "s1=d[\"Voltage_DC_String_1\"]\n",
    "s2=d[\"Voltage_DC_String_2\"]\n",
    "\n",
    "ax.scatter(s1, s2, alpha=.2)\n",
    "\n",
    "ax.set(xlabel='Voltage DC(A)', ylabel='Voltage DC(A)',\n",
    "       title='Voltage DC 1 vs 2')\n",
    "ax.grid()\n",
    "plt.gcf().autofmt_xdate()\n",
    "\n",
    "\n",
    "plt.show()"
   ]
  },
  {
   "cell_type": "code",
   "execution_count": null,
   "metadata": {},
   "outputs": [],
   "source": [
    "fig, ax = plt.subplots()\n",
    "\n",
    "d=inverterData\n",
    "#d=(d.sort_values('ts'))\n",
    "d['Current_DC'] = d[\"Current_DC_String_1\"] + d[\"Current_DC_String_2\"]\n",
    "\n",
    "d=d[d.tod == 14]\n",
    "\n",
    "s1=d[\"Current_DC_String_1\"]\n",
    "s2=d[\"Current_DC_String_2\"]\n",
    "\n",
    "ax.scatter(s1, s2, alpha=.2)\n",
    "\n",
    "ax.set(xlabel='Current DC(A)', ylabel='Current DC(A)',\n",
    "       title='Current DC 1 vs 2')\n",
    "ax.grid()\n",
    "plt.gcf().autofmt_xdate()\n",
    "\n",
    "\n",
    "plt.show()"
   ]
  },
  {
   "cell_type": "code",
   "execution_count": null,
   "metadata": {
    "collapsed": true
   },
   "outputs": [],
   "source": []
  },
  {
   "cell_type": "code",
   "execution_count": null,
   "metadata": {
    "collapsed": true
   },
   "outputs": [],
   "source": []
  },
  {
   "cell_type": "code",
   "execution_count": null,
   "metadata": {
    "collapsed": true
   },
   "outputs": [],
   "source": []
  }
 ],
 "metadata": {
  "kernelspec": {
   "display_name": "Python 3",
   "language": "python",
   "name": "python3"
  },
  "language_info": {
   "codemirror_mode": {
    "name": "ipython",
    "version": 3
   },
   "file_extension": ".py",
   "mimetype": "text/x-python",
   "name": "python",
   "nbconvert_exporter": "python",
   "pygments_lexer": "ipython3",
   "version": "3.6.1"
  }
 },
 "nbformat": 4,
 "nbformat_minor": 2
}
