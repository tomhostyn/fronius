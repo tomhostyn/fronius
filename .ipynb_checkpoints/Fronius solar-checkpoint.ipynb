{
 "cells": [
  {
   "cell_type": "markdown",
   "metadata": {},
   "source": [
    "# Fronius "
   ]
  },
  {
   "cell_type": "markdown",
   "metadata": {},
   "source": [
    "## Settings"
   ]
  },
  {
   "cell_type": "code",
   "execution_count": 17,
   "metadata": {
    "collapsed": true
   },
   "outputs": [],
   "source": [
    "import requests\n",
    "import json\n",
    "import warnings\n",
    "import datetime\n",
    "import dateutil\n",
    "import pandas as pd\n",
    "\n",
    "import fronius\n",
    "from fronius import FroniusInverter\n",
    "from fronius import FroniusArchiveJson\n",
    "\n",
    "from IPython.display import display, HTML, Markdown\n",
    "import matplotlib.pyplot as plt\n",
    "import matplotlib\n",
    "\n",
    "inverter_ip = \"192.168.1.154\"\n",
    "inverter_installation_time = datetime.datetime(2017, 10, 11)\n"
   ]
  },
  {
   "cell_type": "code",
   "execution_count": 18,
   "metadata": {},
   "outputs": [
    {
     "data": {
      "text/plain": [
       "<module 'fronius' from 'C:\\\\Users\\\\tomho\\\\PycharmProjects\\\\Fronius\\\\fronius\\\\fronius.py'>"
      ]
     },
     "execution_count": 18,
     "metadata": {},
     "output_type": "execute_result"
    }
   ],
   "source": [
    "import imp\n",
    "imp.reload(fronius)"
   ]
  },
  {
   "cell_type": "markdown",
   "metadata": {},
   "source": [
    "# FroniusInverter object\n",
    "\n",
    "The first object is _FroniusInverter_.  It will act as a proxy to the inverter hardware.   Create an instance by passing the hardware's IP address."
   ]
  },
  {
   "cell_type": "code",
   "execution_count": 19,
   "metadata": {
    "collapsed": true,
    "scrolled": false
   },
   "outputs": [],
   "source": [
    "host = None\n",
    "fi = FroniusInverter(inverter_ip)"
   ]
  },
  {
   "cell_type": "markdown",
   "metadata": {},
   "source": [
    "This python module was tested against v1 of the Fronius API, and against v1.5-4 of the firmware.  Check if the server version is tested against."
   ]
  },
  {
   "cell_type": "code",
   "execution_count": 24,
   "metadata": {},
   "outputs": [
    {
     "data": {
      "text/markdown": [
       "**Compatibility check: OK**"
      ],
      "text/plain": [
       "<IPython.core.display.Markdown object>"
      ]
     },
     "metadata": {},
     "output_type": "display_data"
    },
    {
     "name": "stdout",
     "output_type": "stream",
     "text": [
      "module supports API v1\n",
      "module tested against versions ['1.5-4']\n",
      "Fronius version response: {'APIVersion': 1, 'BaseURL': '/solar_api/v1/', 'CompatibilityRange': '1.5-4'}\n"
     ]
    }
   ],
   "source": [
    "compatible, response = fi.check_server_compatibility()\n",
    "if compatible:\n",
    "    display(Markdown(\"**Compatibility check: OK**\"))\n",
    "else:\n",
    "    display(Markdown(\"**Compatibility check: NOK**\"))\n",
    "\n",
    "print(\"module supports API v\"+ str(fi.api_version))\n",
    "print(\"module tested against versions\", fi.tested_server_versions)\n",
    "\n",
    "print(\"Fronius version response:\", response)"
   ]
  },
  {
   "cell_type": "markdown",
   "metadata": {},
   "source": [
    "# Reading real time data from the Fronius inverter"
   ]
  },
  {
   "cell_type": "code",
   "execution_count": 26,
   "metadata": {},
   "outputs": [
    {
     "name": "stdout",
     "output_type": "stream",
     "text": [
      "http://192.168.1.154/solar_api/v1/GetInverterRealtimeData.cgi\n"
     ]
    },
    {
     "data": {
      "text/plain": [
       "{'Body': {'Data': {'DAY_ENERGY': {'Unit': 'Wh', 'Values': {'1': 4397}},\n",
       "   'PAC': {'Unit': 'W', 'Values': {'1': 518}},\n",
       "   'TOTAL_ENERGY': {'Unit': 'Wh', 'Values': {'1': 192556}},\n",
       "   'YEAR_ENERGY': {'Unit': 'Wh', 'Values': {'1': 192555}}}},\n",
       " 'Head': {'RequestArguments': {'DeviceClass': 'Inverter', 'Scope': 'System'},\n",
       "  'Status': {'Code': 0, 'Reason': '', 'UserMessage': ''},\n",
       "  'Timestamp': '2017-10-28T14:58:29+02:00'}}"
      ]
     },
     "execution_count": 26,
     "metadata": {},
     "output_type": "execute_result"
    }
   ],
   "source": [
    "fi.getInverterRealTimeData()"
   ]
  },
  {
   "cell_type": "code",
   "execution_count": null,
   "metadata": {
    "collapsed": true
   },
   "outputs": [],
   "source": [
    "fi = FroniusInverter(inverter_ip)\n",
    "fi.findEarliestData()"
   ]
  },
  {
   "cell_type": "code",
   "execution_count": null,
   "metadata": {
    "collapsed": true
   },
   "outputs": [],
   "source": [
    "fi = FroniusInverter(inverter_ip)\n",
    "channels = fi.getChannels()\n",
    "\n",
    "display(Markdown(\"**Defined channels**\"))\n",
    "display(channels)"
   ]
  },
  {
   "cell_type": "code",
   "execution_count": null,
   "metadata": {
    "collapsed": true,
    "scrolled": false
   },
   "outputs": [],
   "source": [
    "fi = FroniusInverter(inverter_ip)\n",
    "data = fi.getHistoricalData(datetime.datetime.now() - datetime.timedelta(hours=1), datetime.datetime.now(), channels)\n",
    "for key, value in data.items():\n",
    "    display(Markdown(\"**\"+str(key)+\"**\"))\n",
    "    display(value)\n",
    "    display(Markdown(\"\\n\"))\n",
    "\n"
   ]
  },
  {
   "cell_type": "code",
   "execution_count": null,
   "metadata": {
    "collapsed": true
   },
   "outputs": [],
   "source": [
    "fi = FroniusInverter(inverter_ip)\n",
    "data = fi.getHistoricalDataJson(datetime.datetime.now() - datetime.timedelta(hours=1), datetime.datetime.now(), \n",
    "                            [\"Digital_PowerManagementRelay_Out_1\", \"TimeSpanInSec\"])\n",
    "\n",
    "data\n"
   ]
  },
  {
   "cell_type": "code",
   "execution_count": null,
   "metadata": {
    "collapsed": true
   },
   "outputs": [],
   "source": []
  },
  {
   "cell_type": "markdown",
   "metadata": {},
   "source": [
    "## Fronius configuration\n",
    "\n",
    "explores which channels are reported, and which channels remain empty"
   ]
  },
  {
   "cell_type": "code",
   "execution_count": null,
   "metadata": {
    "collapsed": true
   },
   "outputs": [],
   "source": [
    "# setup the inverter object\n",
    "fi = FroniusInverter(inverter_ip)\n",
    "\n",
    "# fetch a a couple of days of recent data\n",
    "all_channels = list(fi.getChannels())\n",
    "jsondata=fi.getHistoricalDataJson(datetime.datetime.now() - datetime.timedelta(days=1), datetime.datetime.now(), all_channels)\n",
    "\n",
    "# pass the \n",
    "faj = FroniusArchiveJson(jsondata)\n",
    "data = faj.data()\n",
    "devices = faj.device_ids()\n",
    "\n",
    "channelsReported = []\n",
    "for device in data:\n",
    "    df=data[device]\n",
    "    columns=list(df.columns)\n",
    "    display(Markdown(\"**\"+str(device)+\"**\"))\n",
    "    for c in sorted(columns[1:]):\n",
    "        print(\"\\t\", c)            \n",
    "    channelsReported +=columns[1:]\n",
    "\n",
    "missingChannels=all_channels\n",
    "for c in channelsReported:\n",
    "    missingChannels.remove(c)\n",
    "\n",
    "display(Markdown(\"**\"+str(\"Missing :\")+\"**\"))\n",
    "for c in sorted(missingChannels):\n",
    "        print(\"\\t\", c) "
   ]
  },
  {
   "cell_type": "markdown",
   "metadata": {},
   "source": [
    "# daily graphs"
   ]
  },
  {
   "cell_type": "code",
   "execution_count": null,
   "metadata": {
    "collapsed": true
   },
   "outputs": [],
   "source": [
    "# setup the inverter object\n",
    "fi = FroniusInverter(inverter_ip)\n",
    "\n",
    "channels = [\"Current_DC_String_1\", \"Current_DC_String_2\"]\n",
    "channels = [ \"Current_DC_String_2\"]\n",
    "\n",
    "# fetch a a couple of days of recent data\n",
    "day=datetime.datetime(year=2017, month=10, day=1)\n",
    "duration = 30\n",
    "\n",
    "data20171020 = fi.getHistoricalData(day, day + datetime.timedelta(days=duration) -datetime.timedelta(seconds=1))\n"
   ]
  },
  {
   "cell_type": "code",
   "execution_count": null,
   "metadata": {
    "collapsed": true
   },
   "outputs": [],
   "source": [
    "data20171020_json = fi.getHistoricalDataJson(day, day + datetime.timedelta(days=duration) -datetime.timedelta(seconds=1))\n",
    "data20171020_json"
   ]
  },
  {
   "cell_type": "code",
   "execution_count": null,
   "metadata": {
    "collapsed": true
   },
   "outputs": [],
   "source": [
    "data20171020_json"
   ]
  },
  {
   "cell_type": "code",
   "execution_count": null,
   "metadata": {
    "collapsed": true
   },
   "outputs": [],
   "source": [
    "inverterData = data20171020['inverter/1']\n",
    "inverterData"
   ]
  },
  {
   "cell_type": "code",
   "execution_count": null,
   "metadata": {
    "collapsed": true
   },
   "outputs": [],
   "source": [
    "fig, ax = plt.subplots()\n",
    "\n",
    "d=inverterData\n",
    "t=d[\"ts\"]\n",
    "s=d[\"Current_AC_Phase_1\"]\n",
    "ax.plot(t, s)\n",
    "#ax.plot(t, t)\n",
    "\n",
    "ax.set(xlabel='time (s)', ylabel='Current AC(A)',\n",
    "       title='Current_AC_Phase_1')\n",
    "ax.grid()\n",
    "plt.gcf().autofmt_xdate()\n",
    "\n",
    "plt.show()"
   ]
  },
  {
   "cell_type": "code",
   "execution_count": null,
   "metadata": {
    "collapsed": true
   },
   "outputs": [],
   "source": [
    "fig, ax = plt.subplots()\n",
    "\n",
    "d=inverterData\n",
    "#d=(d.sort_values('ts'))\n",
    "t=d[\"ts\"]\n",
    "s1=d[\"Current_DC_String_1\"]\n",
    "ax.plot(t, s1)\n",
    "\n",
    "s2=d[\"Current_DC_String_2\"]\n",
    "ax.plot(t, s2)\n",
    "\n",
    "ax.set(xlabel='time (s)', ylabel='Current DC(A)',\n",
    "       title='Current_DC_String')\n",
    "ax.grid()\n",
    "plt.gcf().autofmt_xdate()\n",
    "\n",
    "\n",
    "plt.show()"
   ]
  },
  {
   "cell_type": "code",
   "execution_count": null,
   "metadata": {
    "collapsed": true
   },
   "outputs": [],
   "source": [
    "fig, ax = plt.subplots()\n",
    "\n",
    "d=inverterData\n",
    "#d=(d.sort_values('ts'))\n",
    "t=d[\"ts\"]\n",
    "s=d[\"TimeSpanInSec\"]\n",
    "ax.plot(t, s)\n",
    "\n",
    "ax.set(xlabel='time (s)', ylabel='Current AC(A)',\n",
    "       title='TimeSpanInSec')\n",
    "ax.grid()\n",
    "plt.gcf().autofmt_xdate()\n",
    "\n",
    "\n",
    "plt.show()"
   ]
  },
  {
   "cell_type": "code",
   "execution_count": null,
   "metadata": {
    "collapsed": true
   },
   "outputs": [],
   "source": [
    "fig, ax = plt.subplots()\n",
    "\n",
    "d=inverterData\n",
    "#d=(d.sort_values('ts'))\n",
    "t=d[\"ts\"]\n",
    "s1=d[\"Current_DC_String_1\"]\n",
    "s2=d[\"Current_DC_String_2\"]\n",
    "\n",
    "ax.scatter(s1, s2, alpha=.2)\n",
    "\n",
    "ax.set(xlabel='Current DC(A)', ylabel='Current DC(A)',\n",
    "       title='Current DC 1 vs 2')\n",
    "ax.grid()\n",
    "plt.gcf().autofmt_xdate()\n",
    "\n",
    "\n",
    "plt.show()"
   ]
  },
  {
   "cell_type": "code",
   "execution_count": null,
   "metadata": {
    "collapsed": true
   },
   "outputs": [],
   "source": [
    "fig, ax = plt.subplots()\n",
    "\n",
    "d=inverterData\n",
    "#d=(d.sort_values('ts'))\n",
    "d['tod'] = d.ts.apply(lambda t : t.hour)\n",
    "\n",
    "d=d[d.tod == 10]\n",
    "\n",
    "s1=d[\"Current_DC_String_1\"]\n",
    "s2=d[\"Current_DC_String_2\"]\n",
    "\n",
    "ax.scatter(s1, s2, alpha=.2)\n",
    "\n",
    "ax.set(xlabel='Current DC(A)', ylabel='Current DC(A)',\n",
    "       title='Current DC 1 vs 2')\n",
    "ax.grid()\n",
    "plt.gcf().autofmt_xdate()\n",
    "\n",
    "\n",
    "plt.show()"
   ]
  },
  {
   "cell_type": "code",
   "execution_count": null,
   "metadata": {
    "collapsed": true
   },
   "outputs": [],
   "source": [
    "fig, ax = plt.subplots()\n",
    "\n",
    "d=inverterData\n",
    "#d=(d.sort_values('ts'))\n",
    "t=d[\"ts\"]\n",
    "s1=d[\"Voltage_DC_String_1\"]\n",
    "s2=d[\"Voltage_DC_String_2\"]\n",
    "\n",
    "ax.scatter(s1, s2, alpha=.2)\n",
    "\n",
    "ax.set(xlabel='Voltage DC(A)', ylabel='Voltage DC(A)',\n",
    "       title='Voltage DC 1 vs 2')\n",
    "ax.grid()\n",
    "plt.gcf().autofmt_xdate()\n",
    "\n",
    "\n",
    "plt.show()"
   ]
  },
  {
   "cell_type": "code",
   "execution_count": null,
   "metadata": {
    "collapsed": true
   },
   "outputs": [],
   "source": [
    "fig, ax = plt.subplots()\n",
    "\n",
    "d=inverterData\n",
    "#d=(d.sort_values('ts'))\n",
    "d['Current_DC'] = d[\"Current_DC_String_1\"] + d[\"Current_DC_String_2\"]\n",
    "\n",
    "d=d[d.tod == 14]\n",
    "\n",
    "s1=d[\"Current_DC_String_1\"]\n",
    "s2=d[\"Current_DC_String_2\"]\n",
    "\n",
    "ax.scatter(s1, s2, alpha=.2)\n",
    "\n",
    "ax.set(xlabel='Current DC(A)', ylabel='Current DC(A)',\n",
    "       title='Current DC 1 vs 2')\n",
    "ax.grid()\n",
    "plt.gcf().autofmt_xdate()\n",
    "\n",
    "\n",
    "plt.show()"
   ]
  },
  {
   "cell_type": "code",
   "execution_count": null,
   "metadata": {
    "collapsed": true
   },
   "outputs": [],
   "source": []
  },
  {
   "cell_type": "code",
   "execution_count": null,
   "metadata": {
    "collapsed": true
   },
   "outputs": [],
   "source": []
  },
  {
   "cell_type": "code",
   "execution_count": null,
   "metadata": {
    "collapsed": true
   },
   "outputs": [],
   "source": []
  }
 ],
 "metadata": {
  "kernelspec": {
   "display_name": "Python 3",
   "language": "python",
   "name": "python3"
  },
  "language_info": {
   "codemirror_mode": {
    "name": "ipython",
    "version": 3
   },
   "file_extension": ".py",
   "mimetype": "text/x-python",
   "name": "python",
   "nbconvert_exporter": "python",
   "pygments_lexer": "ipython3",
   "version": "3.6.1"
  }
 },
 "nbformat": 4,
 "nbformat_minor": 2
}
