{
 "cells": [
  {
   "cell_type": "markdown",
   "metadata": {},
   "source": [
    "# Fronius "
   ]
  },
  {
   "cell_type": "markdown",
   "metadata": {},
   "source": [
    "## Settings"
   ]
  },
  {
   "cell_type": "code",
   "execution_count": 1,
   "metadata": {
    "collapsed": true
   },
   "outputs": [],
   "source": [
    "import requests\n",
    "import json\n",
    "import warnings\n",
    "import datetime\n",
    "import dateutil\n",
    "import pandas as pd\n",
    "\n",
    "import fronius\n",
    "from fronius import FroniusInverter\n",
    "from fronius import FroniusArchiveJson\n",
    "from fronius import FroniusRealTimeJson\n",
    "\n",
    "\n",
    "from IPython.display import display, HTML, Markdown\n",
    "import matplotlib.pyplot as plt\n",
    "import matplotlib\n",
    "\n",
    "inverter_ip = \"192.168.1.154\"\n",
    "inverter_installation_time = datetime.datetime(2017, 10, 11)\n"
   ]
  },
  {
   "cell_type": "code",
   "execution_count": null,
   "metadata": {},
   "outputs": [],
   "source": [
    "import imp\n",
    "imp.reload(fronius)"
   ]
  },
  {
   "cell_type": "markdown",
   "metadata": {},
   "source": [
    "# FroniusInverter object\n",
    "\n",
    "The first object is _FroniusInverter_.  It will act as a proxy to the inverter hardware.   Create an instance by passing the hardware's IP address."
   ]
  },
  {
   "cell_type": "code",
   "execution_count": null,
   "metadata": {
    "collapsed": true,
    "scrolled": false
   },
   "outputs": [],
   "source": [
    "host = None\n",
    "fi = FroniusInverter(inverter_ip)"
   ]
  },
  {
   "cell_type": "markdown",
   "metadata": {},
   "source": [
    "This python module was tested against v1 of the Fronius API, and against v1.5-4 of the firmware.  Check if the server version is tested against."
   ]
  },
  {
   "cell_type": "code",
   "execution_count": null,
   "metadata": {},
   "outputs": [],
   "source": [
    "compatible, response = fi.check_server_compatibility()\n",
    "if compatible:\n",
    "    display(Markdown(\"**Compatibility check: OK**\"))\n",
    "else:\n",
    "    display(Markdown(\"**Compatibility check: NOK**\"))\n",
    "\n",
    "print(\"module supports API v\"+ str(fi.api_version))\n",
    "print(\"module tested against versions\", fi.tested_server_versions)\n",
    "\n",
    "print(\"Fronius version response:\", response)"
   ]
  },
  {
   "cell_type": "markdown",
   "metadata": {},
   "source": [
    "# Reading real time data from the Fronius inverter"
   ]
  },
  {
   "cell_type": "code",
   "execution_count": null,
   "metadata": {},
   "outputs": [],
   "source": [
    "json = fi.get_inverter_realtime_data()\n",
    "json"
   ]
  },
  {
   "cell_type": "markdown",
   "metadata": {},
   "source": [
    "use the FroniusRealTimeJson class to access the json response. The data is marshalled in a pandas dataframe. Pass a label for the timestamp"
   ]
  },
  {
   "cell_type": "code",
   "execution_count": null,
   "metadata": {},
   "outputs": [],
   "source": [
    "frt = FroniusRealTimeJson(json)\n",
    "\n",
    "if (frt.error_code() == 0):\n",
    "    display(Markdown(\"**Realtime data call: OK**\"))\n",
    "    rtd = frt.data(\"ts\")\n",
    "    display(rtd)\n",
    "else:\n",
    "    display(Markdown(\"**Realtime data call: NOK**\"))\n",
    "    print(frt.error_status())\n"
   ]
  },
  {
   "cell_type": "markdown",
   "metadata": {},
   "source": [
    "pass previous realtime data to append the new observation to an existing dataframe"
   ]
  },
  {
   "cell_type": "code",
   "execution_count": null,
   "metadata": {},
   "outputs": [],
   "source": [
    "display(Markdown(\"**Example: Append new data to previous observations**\"))\n",
    "\n",
    "json2 = fi.get_inverter_realtime_data()\n",
    "frt2 = FroniusRealTimeJson(json2)\n",
    "rtd2 = frt2.data(\"ts\", append=rtd)\n",
    "rtd=rtd2\n",
    "display(rtd2)\n",
    "\n",
    "display(Markdown(\"**Example: Perform some calculations**\"))\n",
    "display(rtd2['DAY_ENERGY']/rtd2['TOTAL_ENERGY'])\n"
   ]
  },
  {
   "cell_type": "markdown",
   "metadata": {},
   "source": [
    "Example : fetch some real time data and plot it"
   ]
  },
  {
   "cell_type": "code",
   "execution_count": null,
   "metadata": {},
   "outputs": [],
   "source": [
    "import time\n",
    "# grab some more data\n",
    "fi = FroniusInverter(inverter_ip)\n",
    "\n",
    "d=None\n",
    "for i in range (1, 10):\n",
    "    time.sleep(5)\n",
    "    json = fi.get_inverter_realtime_data()\n",
    "    frt = FroniusRealTimeJson(json)\n",
    "    d = frt.data(\"ts\", append=d)\n",
    "\n",
    "fig, ax1 = plt.subplots()\n",
    "\n",
    "t=d[\"ts\"]\n",
    "s=d[\"DAY_ENERGY\"]\n",
    "lns1=ax1.plot(t, s, 'g-', marker='o')\n",
    "ax1.set_ylabel('Energy (Wh)')\n",
    "\n",
    "ax2 = ax1.twinx()\n",
    "\n",
    "s2=d[\"PAC\"]\n",
    "lns2=ax2.plot(t, s2, 'b-', marker='o')\n",
    "ax2.set_ylabel('Power (W)')\n",
    "\n",
    "lns = lns1+lns2\n",
    "labs = [l.get_label() for l in lns]\n",
    "ax1.legend(lns, labs, loc='center left', bbox_to_anchor=(1.15, 0.91))\n",
    "\n",
    "\n",
    "ax1.set(xlabel='time (s)',\n",
    "       title='Power output AC')\n",
    "\n",
    "plt.gcf().autofmt_xdate()\n",
    "\n",
    "plt.show()"
   ]
  },
  {
   "cell_type": "code",
   "execution_count": null,
   "metadata": {},
   "outputs": [],
   "source": [
    "fi = FroniusInverter(inverter_ip)\n",
    "fi.find_earliest_data()"
   ]
  },
  {
   "cell_type": "code",
   "execution_count": null,
   "metadata": {},
   "outputs": [],
   "source": [
    "fi = FroniusInverter(inverter_ip)\n",
    "channels = fi.get_all_channels()\n",
    "\n",
    "display(Markdown(\"**Defined channels**\"))\n",
    "display(channels)"
   ]
  },
  {
   "cell_type": "code",
   "execution_count": null,
   "metadata": {
    "scrolled": false
   },
   "outputs": [],
   "source": [
    "fi = FroniusInverter(inverter_ip)\n",
    "data = fi.get_historical_data(datetime.datetime.now() - datetime.timedelta(hours=1), datetime.datetime.now(), channels)\n",
    "for key, value in data.items():\n",
    "    display(Markdown(\"**\"+str(key)+\"**\"))\n",
    "    display(value)\n",
    "    display(Markdown(\"\\n\"))\n",
    "\n"
   ]
  },
  {
   "cell_type": "code",
   "execution_count": null,
   "metadata": {},
   "outputs": [],
   "source": [
    "fi = FroniusInverter(inverter_ip)\n",
    "data = fi.get_historical_data_json(datetime.datetime.now() - datetime.timedelta(hours=1), datetime.datetime.now(), \n",
    "                            [\"Digital_PowerManagementRelay_Out_1\", \"TimeSpanInSec\"])\n",
    "\n",
    "data\n"
   ]
  },
  {
   "cell_type": "markdown",
   "metadata": {},
   "source": [
    "## Fronius configuration\n",
    "\n",
    "explores which channels are reported, and which channels remain empty"
   ]
  },
  {
   "cell_type": "code",
   "execution_count": null,
   "metadata": {},
   "outputs": [],
   "source": [
    "# setup the inverter object\n",
    "fi = FroniusInverter(inverter_ip)\n",
    "\n",
    "# fetch a a couple of days of recent data\n",
    "all_channels = list(fi.get_all_channels())\n",
    "jsondata=fi.get_historical_data_json(datetime.datetime.now() - datetime.timedelta(days=1), datetime.datetime.now(), all_channels)\n",
    "\n",
    "# pass the \n",
    "faj = FroniusArchiveJson(jsondata)\n",
    "data = faj.data()\n",
    "devices = faj.device_ids()\n",
    "\n",
    "channelsReported = []\n",
    "for device in data:\n",
    "    df=data[device]\n",
    "    columns=list(df.columns)\n",
    "    display(Markdown(\"**\"+str(device)+\"**\"))\n",
    "    for c in sorted(columns[1:]):\n",
    "        print(\"\\t\", c)            \n",
    "    channelsReported +=columns[1:]\n",
    "\n",
    "missingChannels=all_channels\n",
    "for c in channelsReported:\n",
    "    missingChannels.remove(c)\n",
    "\n",
    "display(Markdown(\"**\"+str(\"Missing :\")+\"**\"))\n",
    "for c in sorted(missingChannels):\n",
    "        print(\"\\t\", c) "
   ]
  },
  {
   "cell_type": "markdown",
   "metadata": {},
   "source": [
    "# daily graphs"
   ]
  },
  {
   "cell_type": "code",
   "execution_count": null,
   "metadata": {},
   "outputs": [],
   "source": [
    "# setup the inverter object\n",
    "fi = FroniusInverter(inverter_ip)\n",
    "\n",
    "channels = [\"Current_DC_String_1\", \"Current_DC_String_2\"]\n",
    "channels = [ \"Current_DC_String_2\"]\n",
    "\n",
    "# fetch a a couple of days of recent data\n",
    "day=datetime.datetime(year=2017, month=10, day=1)\n",
    "duration = 30\n",
    "\n",
    "data20171020 = fi.get_historical_data(day, day + datetime.timedelta(days=duration) -datetime.timedelta(seconds=1))\n"
   ]
  },
  {
   "cell_type": "code",
   "execution_count": null,
   "metadata": {},
   "outputs": [],
   "source": [
    "data20171020_json = fi.get_historical_data_json(day, day + datetime.timedelta(days=duration) -datetime.timedelta(seconds=1))\n",
    "data20171020_json"
   ]
  },
  {
   "cell_type": "code",
   "execution_count": null,
   "metadata": {},
   "outputs": [],
   "source": [
    "data20171020_json"
   ]
  },
  {
   "cell_type": "code",
   "execution_count": null,
   "metadata": {},
   "outputs": [],
   "source": [
    "inverterData = data20171020['inverter/1']\n",
    "inverterData"
   ]
  },
  {
   "cell_type": "code",
   "execution_count": null,
   "metadata": {},
   "outputs": [],
   "source": [
    "fig, ax = plt.subplots()\n",
    "\n",
    "d=inverterData\n",
    "t=d[\"ts\"]\n",
    "s=d[\"Current_AC_Phase_1\"]\n",
    "ax.plot(t, s)\n",
    "\n",
    "ax.set(xlabel='time (s)', ylabel='Current AC(A)',\n",
    "       title='Current_AC_Phase_1')\n",
    "ax.grid()\n",
    "plt.gcf().autofmt_xdate()\n",
    "\n",
    "plt.show()"
   ]
  },
  {
   "cell_type": "code",
   "execution_count": null,
   "metadata": {},
   "outputs": [],
   "source": [
    "fig, ax = plt.subplots()\n",
    "\n",
    "d=inverterData\n",
    "#d=(d.sort_values('ts'))\n",
    "t=d[\"ts\"]\n",
    "s1=d[\"Current_DC_String_1\"]\n",
    "ax.plot(t, s1)\n",
    "\n",
    "s2=d[\"Current_DC_String_2\"]\n",
    "ax.plot(t, s2)\n",
    "\n",
    "ax.set(xlabel='time (s)', ylabel='Current DC(A)',\n",
    "       title='Current_DC_String')\n",
    "ax.grid()\n",
    "plt.gcf().autofmt_xdate()\n",
    "\n",
    "\n",
    "plt.show()"
   ]
  },
  {
   "cell_type": "code",
   "execution_count": null,
   "metadata": {},
   "outputs": [],
   "source": [
    "fig, ax = plt.subplots()\n",
    "\n",
    "d=inverterData\n",
    "#d=(d.sort_values('ts'))\n",
    "t=d[\"ts\"]\n",
    "s=d[\"TimeSpanInSec\"]\n",
    "ax.plot(t, s)\n",
    "\n",
    "ax.set(xlabel='time (s)', ylabel='Current AC(A)',\n",
    "       title='TimeSpanInSec')\n",
    "ax.grid()\n",
    "plt.gcf().autofmt_xdate()\n",
    "\n",
    "\n",
    "plt.show()"
   ]
  },
  {
   "cell_type": "code",
   "execution_count": null,
   "metadata": {},
   "outputs": [],
   "source": [
    "fig, ax = plt.subplots()\n",
    "\n",
    "d=inverterData\n",
    "#d=(d.sort_values('ts'))\n",
    "t=d[\"ts\"]\n",
    "s1=d[\"Current_DC_String_1\"]\n",
    "s2=d[\"Current_DC_String_2\"]\n",
    "\n",
    "ax.scatter(s1, s2, alpha=.2)\n",
    "\n",
    "ax.set(xlabel='Current DC(A)', ylabel='Current DC(A)',\n",
    "       title='Current DC 1 vs 2')\n",
    "ax.grid()\n",
    "plt.gcf().autofmt_xdate()\n",
    "\n",
    "\n",
    "plt.show()"
   ]
  },
  {
   "cell_type": "code",
   "execution_count": null,
   "metadata": {},
   "outputs": [],
   "source": [
    "fig, ax = plt.subplots()\n",
    "\n",
    "d=inverterData\n",
    "#d=(d.sort_values('ts'))\n",
    "d['tod'] = d.ts.apply(lambda t : t.hour)\n",
    "\n",
    "d=d[d.tod == 10]\n",
    "\n",
    "s1=d[\"Current_DC_String_1\"]\n",
    "s2=d[\"Current_DC_String_2\"]\n",
    "\n",
    "ax.scatter(s1, s2, alpha=.2)\n",
    "\n",
    "ax.set(xlabel='Current DC(A)', ylabel='Current DC(A)',\n",
    "       title='Current DC 1 vs 2')\n",
    "ax.grid()\n",
    "plt.gcf().autofmt_xdate()\n",
    "\n",
    "\n",
    "plt.show()"
   ]
  },
  {
   "cell_type": "code",
   "execution_count": null,
   "metadata": {},
   "outputs": [],
   "source": [
    "fig, ax = plt.subplots()\n",
    "\n",
    "d=inverterData\n",
    "#d=(d.sort_values('ts'))\n",
    "t=d[\"ts\"]\n",
    "s1=d[\"Voltage_DC_String_1\"]\n",
    "s2=d[\"Voltage_DC_String_2\"]\n",
    "\n",
    "ax.scatter(s1, s2, alpha=.2)\n",
    "\n",
    "ax.set(xlabel='Voltage DC(A)', ylabel='Voltage DC(A)',\n",
    "       title='Voltage DC 1 vs 2')\n",
    "ax.grid()\n",
    "plt.gcf().autofmt_xdate()\n",
    "\n",
    "\n",
    "plt.show()"
   ]
  },
  {
   "cell_type": "code",
   "execution_count": null,
   "metadata": {},
   "outputs": [],
   "source": [
    "fig, ax = plt.subplots()\n",
    "\n",
    "d=inverterData\n",
    "#d=(d.sort_values('ts'))\n",
    "d['Current_DC'] = d[\"Current_DC_String_1\"] + d[\"Current_DC_String_2\"]\n",
    "\n",
    "d=d[d.tod == 14]\n",
    "\n",
    "s1=d[\"Current_DC_String_1\"]\n",
    "s2=d[\"Current_DC_String_2\"]\n",
    "\n",
    "ax.scatter(s1, s2, alpha=.2)\n",
    "\n",
    "ax.set(xlabel='Current DC(A)', ylabel='Current DC(A)',\n",
    "       title='Current DC 1 vs 2')\n",
    "ax.grid()\n",
    "plt.gcf().autofmt_xdate()\n",
    "\n",
    "\n",
    "plt.show()"
   ]
  },
  {
   "cell_type": "code",
   "execution_count": null,
   "metadata": {
    "collapsed": true
   },
   "outputs": [],
   "source": []
  },
  {
   "cell_type": "code",
   "execution_count": null,
   "metadata": {
    "collapsed": true
   },
   "outputs": [],
   "source": []
  },
  {
   "cell_type": "code",
   "execution_count": null,
   "metadata": {
    "collapsed": true
   },
   "outputs": [],
   "source": []
  }
 ],
 "metadata": {
  "kernelspec": {
   "display_name": "Python 3",
   "language": "python",
   "name": "python3"
  },
  "language_info": {
   "codemirror_mode": {
    "name": "ipython",
    "version": 3
   },
   "file_extension": ".py",
   "mimetype": "text/x-python",
   "name": "python",
   "nbconvert_exporter": "python",
   "pygments_lexer": "ipython3",
   "version": "3.6.1"
  }
 },
 "nbformat": 4,
 "nbformat_minor": 2
}
